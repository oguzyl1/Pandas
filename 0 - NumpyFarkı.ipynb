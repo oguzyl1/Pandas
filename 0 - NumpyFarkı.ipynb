{
 "cells": [
  {
   "cell_type": "markdown",
   "metadata": {},
   "source": [
    "# Pandas Ve Numpy Kütüphanelerinin Farkı\n",
    "\n",
    "Pandas ve NumPy, Python'da veri manipülasyonu ve analizi için sıkça kullanılan kütüphanelerdir, ancak farklı amaçlara hizmet ederler ve bazı önemli farklılıklara sahiptirler.\n",
    "\n",
    "Veri yapıları:\n",
    "\n",
    "NumPy, çok boyutlu diziler (arrays) ve matrisler üzerinde çalışır. Bu nedenle, temel veri yapısı ndarray (N-dimensional array) olarak bilinir.\n",
    "Pandas ise, veri analizi için daha yüksek seviyeli veri yapıları sağlar. En önemli yapılarından biri DataFrame'dir, bu yapı tablo benzeri bir veri yapısıdır. Ayrıca, Series adında tek boyutlu dizilere de sahiptir.\n",
    "Performans:\n",
    "\n",
    "NumPy, C dilinde yazılmış altta yatan işlemleri kullanarak yüksek performanslı bir şekilde çalışır. Bu nedenle, büyük veri kümeleriyle çalışırken genellikle daha hızlıdır.\n",
    "Pandas, veri yapılarına daha fazla esneklik ve daha yüksek seviyeli operasyonlar sağlar, ancak performans açısından NumPy'den biraz daha yavaş olabilir.\n",
    "Veri Manipülasyonu:\n",
    "\n",
    "NumPy, matematiksel işlemler ve diziler arası işlemler için tasarlanmıştır. Veri manipülasyonu genellikle düşük seviyeli işlemlerle yapılır.\n",
    "Pandas ise, veri analizi ve veri temizleme gibi daha yüksek seviyeli işlemler için tasarlanmıştır. Bu nedenle, veriye daha kolay erişim sağlar ve veri manipülasyonu için daha zengin bir araç setine sahiptir.\n",
    "Veri Manipülasyonu Yetenekleri:\n",
    "\n",
    "Pandas, veri setlerini işlemek ve dönüştürmek için çeşitli fonksiyonlara ve yöntemlere sahiptir. Gruplama, birleştirme, dönüştürme, filtreleme gibi işlemleri kolayca gerçekleştirebilir.\n",
    "NumPy ise, daha çok matematiksel işlemler ve diziler üzerinde element-wise işlemler yapmak için kullanılır.\n",
    "Sonuç olarak, NumPy ve Pandas birbirini tamamlayan kütüphanelerdir. NumPy, düşük seviyeli matematiksel işlemler için idealdir, Pandas ise veri analizi ve manipülasyonu için daha uygundur. Genellikle, veri analizi ve manipülasyonunda Pandas kullanılırken, NumPy temel veri yapısı olarak altında kullanılır."
   ]
  }
 ],
 "metadata": {
  "kernelspec": {
   "display_name": "Python 3",
   "language": "python",
   "name": "python3"
  },
  "language_info": {
   "codemirror_mode": {
    "name": "ipython",
    "version": 3
   },
   "file_extension": ".py",
   "mimetype": "text/x-python",
   "name": "python",
   "nbconvert_exporter": "python",
   "pygments_lexer": "ipython3",
   "version": "3.11.5"
  }
 },
 "nbformat": 4,
 "nbformat_minor": 2
}
