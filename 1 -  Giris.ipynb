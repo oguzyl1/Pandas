{
 "cells": [
  {
   "cell_type": "code",
   "execution_count": 42,
   "metadata": {},
   "outputs": [],
   "source": [
    "# pandas kütüphanesini projeye dahil etme\n",
    "import pandas as pd"
   ]
  },
  {
   "cell_type": "code",
   "execution_count": 43,
   "metadata": {},
   "outputs": [
    {
     "data": {
      "text/plain": [
       "0      1\n",
       "1    Ali\n",
       "2    3.5\n",
       "3    Hey\n",
       "dtype: object"
      ]
     },
     "execution_count": 43,
     "metadata": {},
     "output_type": "execute_result"
    }
   ],
   "source": [
    "#Pandas Serisi, tek boyutlu veri dizilerini etiketlenmiş bir biçimde saklayan ve üzerinde işlemler yapmayı sağlayan veri yapısıdır.\n",
    "obje = pd.Series([1,\"Ali\",3.5,\"Hey\"])\n",
    "obje"
   ]
  },
  {
   "cell_type": "code",
   "execution_count": 44,
   "metadata": {},
   "outputs": [
    {
     "data": {
      "text/plain": [
       "array([1, 'Ali', 3.5, 'Hey'], dtype=object)"
      ]
     },
     "execution_count": 44,
     "metadata": {},
     "output_type": "execute_result"
    }
   ],
   "source": [
    "#Seriler üzerinde işlemler\n",
    "obje[3] #bu şekilde istediğimiz indexteki elemanı çağırabiliriz\n",
    "obje.values #bu işlem ile Seriyi dizi şeklinde yazdırabiliriz"
   ]
  },
  {
   "cell_type": "code",
   "execution_count": 45,
   "metadata": {},
   "outputs": [
    {
     "data": {
      "text/plain": [
       "a      1\n",
       "b    Ali\n",
       "c    3.5\n",
       "d    Hey\n",
       "dtype: object"
      ]
     },
     "execution_count": 45,
     "metadata": {},
     "output_type": "execute_result"
    }
   ],
   "source": [
    "obje = pd.Series([1,\"Ali\",3.5,\"Hey\"],index=[\"a\",\"b\",\"c\",\"d\"]) #bu şekilde Serinin indexini 1 2 3 4 den a b c d ye çevirdik\n",
    "obje"
   ]
  },
  {
   "cell_type": "code",
   "execution_count": 46,
   "metadata": {},
   "outputs": [
    {
     "data": {
      "text/plain": [
       "'Ali'"
      ]
     },
     "execution_count": 46,
     "metadata": {},
     "output_type": "execute_result"
    }
   ],
   "source": [
    "#bir üst satırda yaptığımız işlem sayesinde artık aşağıdaki gibi çağırma işlemi yapabiliriz\n",
    "# obje[1] : bu şekilde çağırmaya çalışırsak hata ile karşılaşacağız \n",
    "\n",
    "obje[\"a\"]\n",
    "obje[\"b\"]\n"
   ]
  },
  {
   "cell_type": "code",
   "execution_count": 47,
   "metadata": {},
   "outputs": [
    {
     "data": {
      "text/plain": [
       "Index(['a', 'b', 'c', 'd'], dtype='object')"
      ]
     },
     "execution_count": 47,
     "metadata": {},
     "output_type": "execute_result"
    }
   ],
   "source": [
    "obje.index #objenin index yapısını öğrenmek için"
   ]
  },
  {
   "cell_type": "code",
   "execution_count": 48,
   "metadata": {},
   "outputs": [
    {
     "data": {
      "text/plain": [
       "Ali       90\n",
       "Oğuz      80\n",
       "Funda    100\n",
       "dtype: int64"
      ]
     },
     "execution_count": 48,
     "metadata": {},
     "output_type": "execute_result"
    }
   ],
   "source": [
    "#sözlük tuple liste gibi veri yapıları series veri yapısına çevirilebilir\n",
    "puan = {\"Ali\":90 ,\"Oğuz\":80,\"Funda\":100}\n",
    "nt = pd.Series(puan)\n",
    "nt"
   ]
  },
  {
   "cell_type": "code",
   "execution_count": 49,
   "metadata": {},
   "outputs": [
    {
     "data": {
      "text/plain": [
       "Ali       90\n",
       "Funda    100\n",
       "dtype: int64"
      ]
     },
     "execution_count": 49,
     "metadata": {},
     "output_type": "execute_result"
    }
   ],
   "source": [
    "# Seriler üzerinde mantıksal işlemler de yapılabilir\n",
    "nt [ nt > 85 ] #bu işlem bize notları 85 üzerinde olanları getirir "
   ]
  },
  {
   "cell_type": "code",
   "execution_count": 50,
   "metadata": {},
   "outputs": [
    {
     "data": {
      "text/plain": [
       "Ali      False\n",
       "Oğuz      True\n",
       "Funda    False\n",
       "dtype: bool"
      ]
     },
     "execution_count": 50,
     "metadata": {},
     "output_type": "execute_result"
    }
   ],
   "source": [
    "# Eğer bu şekilde yaparsak da tüm Series üzerinde True False döndürür\n",
    "nt < 85 "
   ]
  },
  {
   "cell_type": "code",
   "execution_count": 51,
   "metadata": {},
   "outputs": [
    {
     "data": {
      "text/plain": [
       "Ali       90\n",
       "Oğuz      60\n",
       "Funda    100\n",
       "dtype: int64"
      ]
     },
     "execution_count": 51,
     "metadata": {},
     "output_type": "execute_result"
    }
   ],
   "source": [
    "# Verileri değiştirme işlemi aşağıdaki gibi yapılabilir \n",
    "nt[\"Oğuz\"] = 60 \n",
    "nt"
   ]
  },
  {
   "cell_type": "code",
   "execution_count": 52,
   "metadata": {},
   "outputs": [
    {
     "data": {
      "text/plain": [
       "Ali       83\n",
       "Oğuz      83\n",
       "Funda    100\n",
       "dtype: int64"
      ]
     },
     "execution_count": 52,
     "metadata": {},
     "output_type": "execute_result"
    }
   ],
   "source": [
    "#belli bir aralıktaki değerleri de güncelleyebiliriz aşağıda notu 95 den küçük olanlar 83 değeri ile değiştirilecek\n",
    "nt [nt < 95] = 83\n",
    "nt"
   ]
  },
  {
   "cell_type": "code",
   "execution_count": 53,
   "metadata": {},
   "outputs": [
    {
     "data": {
      "text/plain": [
       "False"
      ]
     },
     "execution_count": 53,
     "metadata": {},
     "output_type": "execute_result"
    }
   ],
   "source": [
    "#bir verinin Series de olup olmadığını kontrol edebiliriz \n",
    "\"Oğuz\" in nt #True\n",
    "\"Fatih\" in nt #False"
   ]
  },
  {
   "cell_type": "code",
   "execution_count": 55,
   "metadata": {},
   "outputs": [
    {
     "data": {
      "text/plain": [
       "Ali      4.15\n",
       "Oğuz     4.15\n",
       "Funda    5.00\n",
       "dtype: float64"
      ]
     },
     "execution_count": 55,
     "metadata": {},
     "output_type": "execute_result"
    }
   ],
   "source": [
    "#Seriesler üzerinde matematiksel işlemler yapılabilir ama işlemler ana Seriesi değiştirmez değiştirmesi için \n",
    "# nt = nt / 20 gibi kullanılmalıdır\n",
    "nt / 20 \n",
    "nt ** 2\n"
   ]
  },
  {
   "cell_type": "code",
   "execution_count": 57,
   "metadata": {},
   "outputs": [
    {
     "data": {
      "text/plain": [
       "Ali      False\n",
       "Oğuz     False\n",
       "Funda    False\n",
       "dtype: bool"
      ]
     },
     "execution_count": 57,
     "metadata": {},
     "output_type": "execute_result"
    }
   ],
   "source": [
    "# eksik değer sorgulaması yapmak için aşağıdaki metod kullanılır eğer bir indexin karşısı boşsa true değilse false döner\n",
    "nt.isnull()"
   ]
  },
  {
   "cell_type": "code",
   "execution_count": null,
   "metadata": {},
   "outputs": [],
   "source": []
  }
 ],
 "metadata": {
  "kernelspec": {
   "display_name": "Python 3",
   "language": "python",
   "name": "python3"
  },
  "language_info": {
   "codemirror_mode": {
    "name": "ipython",
    "version": 3
   },
   "file_extension": ".py",
   "mimetype": "text/x-python",
   "name": "python",
   "nbconvert_exporter": "python",
   "pygments_lexer": "ipython3",
   "version": "3.11.5"
  }
 },
 "nbformat": 4,
 "nbformat_minor": 2
}
